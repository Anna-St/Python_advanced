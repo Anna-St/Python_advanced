{
 "cells": [
  {
   "cell_type": "markdown",
   "metadata": {},
   "source": [
    "# Урок 1. Концепции хранения информации. Практическое задание"
   ]
  },
  {
   "cell_type": "markdown",
   "metadata": {},
   "source": [
    "## 1. Каждое из слов «разработка», «сокет», «декоратор» представить в строковом формате и проверить тип и содержание соответствующих переменных. Затем с помощью онлайн-конвертера преобразовать строковые представление в формат Unicode и также проверить тип и содержимое переменных."
   ]
  },
  {
   "cell_type": "code",
   "execution_count": 1,
   "metadata": {},
   "outputs": [
    {
     "name": "stdout",
     "output_type": "stream",
     "text": [
      "word: разработка \n",
      "type: <class 'str'>\n",
      "Unicode: \n",
      "word: b'\\xd1\\x80\\xd0\\xb0\\xd0\\xb7\\xd1\\x80\\xd0\\xb0\\xd0\\xb1\\xd0\\xbe\\xd1\\x82\\xd0\\xba\\xd0\\xb0' \n",
      "type: <class 'bytes'>\n",
      "\n",
      "word: сокет \n",
      "type: <class 'str'>\n",
      "Unicode: \n",
      "word: b'\\xd1\\x81\\xd0\\xbe\\xd0\\xba\\xd0\\xb5\\xd1\\x82' \n",
      "type: <class 'bytes'>\n",
      "\n",
      "word: декоратор \n",
      "type: <class 'str'>\n",
      "Unicode: \n",
      "word: b'\\xd0\\xb4\\xd0\\xb5\\xd0\\xba\\xd0\\xbe\\xd1\\x80\\xd0\\xb0\\xd1\\x82\\xd0\\xbe\\xd1\\x80' \n",
      "type: <class 'bytes'>\n",
      "\n"
     ]
    }
   ],
   "source": [
    "strings = ['разработка', 'сокет', 'декоратор']\n",
    "for word in strings:\n",
    "    print(f'word: {word} \\ntype: {type(word)}')\n",
    "    encode_word = word.encode()\n",
    "    print(f'Unicode: \\nword: {encode_word} \\ntype: {type(encode_word)}\\n')"
   ]
  },
  {
   "cell_type": "markdown",
   "metadata": {},
   "source": [
    "## 2. Каждое из слов «class», «function», «method» записать в байтовом типе без преобразования в последовательность кодов (не используя методы encode и decode) и определить тип, содержимое и длину соответствующих переменных."
   ]
  },
  {
   "cell_type": "code",
   "execution_count": 2,
   "metadata": {},
   "outputs": [
    {
     "name": "stdout",
     "output_type": "stream",
     "text": [
      "word: b'class', type: <class 'bytes'>, length: 5\n",
      "word: b'function', type: <class 'bytes'>, length: 8\n",
      "word: b'method', type: <class 'bytes'>, length: 6\n"
     ]
    }
   ],
   "source": [
    "byte_words = [b'class', b'function', b'method']\n",
    "for word in byte_words:\n",
    "    print(f'word: {word}, type: {type(word)}, length: {len(word)}')"
   ]
  },
  {
   "cell_type": "markdown",
   "metadata": {},
   "source": [
    "## 3. Определить, какие из слов «attribute», «класс», «функция», «type» невозможно записать в байтовом типе."
   ]
  },
  {
   "cell_type": "code",
   "execution_count": 3,
   "metadata": {},
   "outputs": [
    {
     "name": "stdout",
     "output_type": "stream",
     "text": [
      "Слово \"класс\" невозможно записать в байтовом типе\n",
      "Слово \"функция\" невозможно записать в байтовом типе\n"
     ]
    }
   ],
   "source": [
    "words = [\"attribute\", \"класс\", \"функция\", \"type\"]\n",
    "for word in words:\n",
    "    try:\n",
    "        encode_word = bytes(word, 'ascii')\n",
    "    except:\n",
    "        print(f'Слово \"{word}\" невозможно записать в байтовом типе')"
   ]
  },
  {
   "cell_type": "markdown",
   "metadata": {},
   "source": [
    "## 4. Преобразовать слова «разработка», «администрирование», «protocol», «standard» из строкового представления в байтовое и выполнить обратное преобразование (используя методы encode и decode)."
   ]
  },
  {
   "cell_type": "code",
   "execution_count": 4,
   "metadata": {},
   "outputs": [
    {
     "name": "stdout",
     "output_type": "stream",
     "text": [
      "Начальное слово: разработка, \n",
      "байтовое представление: b'\\xd1\\x80\\xd0\\xb0\\xd0\\xb7\\xd1\\x80\\xd0\\xb0\\xd0\\xb1\\xd0\\xbe\\xd1\\x82\\xd0\\xba\\xd0\\xb0', \n",
      "после обратного преобразования: разработка\n",
      "\n",
      "Начальное слово: администрирование, \n",
      "байтовое представление: b'\\xd0\\xb0\\xd0\\xb4\\xd0\\xbc\\xd0\\xb8\\xd0\\xbd\\xd0\\xb8\\xd1\\x81\\xd1\\x82\\xd1\\x80\\xd0\\xb8\\xd1\\x80\\xd0\\xbe\\xd0\\xb2\\xd0\\xb0\\xd0\\xbd\\xd0\\xb8\\xd0\\xb5', \n",
      "после обратного преобразования: администрирование\n",
      "\n",
      "Начальное слово: protocol, \n",
      "байтовое представление: b'protocol', \n",
      "после обратного преобразования: protocol\n",
      "\n",
      "Начальное слово: standard, \n",
      "байтовое представление: b'standard', \n",
      "после обратного преобразования: standard\n",
      "\n"
     ]
    }
   ],
   "source": [
    "words = [\"разработка\", \"администрирование\", 'protocol', 'standard']\n",
    "for word in words:\n",
    "    encode_word = word.encode('utf-8')\n",
    "    decode_word = encode_word.decode()\n",
    "    print(f'Начальное слово: {word}, \\nбайтовое представление: {encode_word}, \\nпосле обратного преобразования: {decode_word}\\n')"
   ]
  },
  {
   "cell_type": "markdown",
   "metadata": {},
   "source": [
    "## 5. Выполнить пинг веб-ресурсов yandex.ru, youtube.com и преобразовать результаты из байтовового в строковый тип на кириллице."
   ]
  },
  {
   "cell_type": "code",
   "execution_count": 6,
   "metadata": {},
   "outputs": [
    {
     "name": "stdout",
     "output_type": "stream",
     "text": [
      "\n",
      "Обмен пакетами с yandex.ru [2a02:6b8:a::a] с 32 байтами данных:\n",
      "Ответ от 2a02:6b8:a::a: время=5мс \n",
      "Ответ от 2a02:6b8:a::a: время=5мс \n",
      "Ответ от 2a02:6b8:a::a: время=5мс \n",
      "Ответ от 2a02:6b8:a::a: время=5мс \n",
      "\n",
      "Статистика Ping для 2a02:6b8:a::a:\n",
      "    Пакетов: отправлено = 4, получено = 4, потеряно = 0\n",
      "    (0% потерь)\n",
      "Приблизительное время приема-передачи в мс:\n",
      "    Минимальное = 5мсек, Максимальное = 5 мсек, Среднее = 5 мсек\n",
      "\n",
      "Обмен пакетами с youtube.com [2a00:1450:4010:c08::5d] с 32 байтами данных:\n",
      "Ответ от 2a00:1450:4010:c08::5d: время=19мс \n",
      "Ответ от 2a00:1450:4010:c08::5d: время=18мс \n",
      "Ответ от 2a00:1450:4010:c08::5d: время=19мс \n",
      "Ответ от 2a00:1450:4010:c08::5d: время=19мс \n",
      "\n",
      "Статистика Ping для 2a00:1450:4010:c08::5d:\n",
      "    Пакетов: отправлено = 4, получено = 4, потеряно = 0\n",
      "    (0% потерь)\n",
      "Приблизительное время приема-передачи в мс:\n",
      "    Минимальное = 18мсек, Максимальное = 19 мсек, Среднее = 18 мсек\n"
     ]
    }
   ],
   "source": [
    "import subprocess\n",
    "\n",
    "addresses = ['yandex.ru', 'youtube.com']\n",
    "for hostname in addresses:\n",
    "    subproc_ping = subprocess.Popen(f'ping {hostname}', stdout=subprocess.PIPE)\n",
    "    for line in subproc_ping.stdout:\n",
    "        print(line.decode('cp866'), end='')"
   ]
  },
  {
   "cell_type": "markdown",
   "metadata": {},
   "source": [
    "## 6. Создать текстовый файл test_file.txt, заполнить его тремя строками: «сетевое программирование», «сокет», «декоратор». Проверить кодировку файла по умолчанию. Принудительно открыть файл в формате Unicode и вывести его содержимое."
   ]
  },
  {
   "cell_type": "code",
   "execution_count": 8,
   "metadata": {},
   "outputs": [
    {
     "name": "stdout",
     "output_type": "stream",
     "text": [
      "utf-8' codec can't decode\n",
      "File output:\n",
      "сетевое программирование\n",
      "сокет\n",
      "декоратор\n"
     ]
    }
   ],
   "source": [
    "import locale\n",
    "\n",
    "filename = 'test_file.txt'\n",
    "lines = ['сетевое программирование', 'сокет', 'декоратор']\n",
    "\n",
    "with open(filename, mode='w') as file:\n",
    "    for line in lines:\n",
    "        file.write(line + '\\n')\n",
    "\n",
    "try:\n",
    "    with open(filename, encoding='utf-8') as file_read:\n",
    "        for line in file_read:\n",
    "            print(line)\n",
    "except UnicodeDecodeError:\n",
    "    print(\"utf-8' codec can't decode\")\n",
    "\n",
    "def_encoding = locale.getpreferredencoding()\n",
    "    \n",
    "print('File output:')\n",
    "with open(filename, mode='r', encoding=def_encoding) as file:\n",
    "    for line in file.readlines():\n",
    "        print(line, end='')"
   ]
  }
 ],
 "metadata": {
  "kernelspec": {
   "display_name": "Python 3",
   "language": "python",
   "name": "python3"
  },
  "language_info": {
   "codemirror_mode": {
    "name": "ipython",
    "version": 3
   },
   "file_extension": ".py",
   "mimetype": "text/x-python",
   "name": "python",
   "nbconvert_exporter": "python",
   "pygments_lexer": "ipython3",
   "version": "3.7.1"
  }
 },
 "nbformat": 4,
 "nbformat_minor": 2
}
